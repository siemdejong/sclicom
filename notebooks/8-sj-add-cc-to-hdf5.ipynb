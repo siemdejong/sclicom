{
 "cells": [
  {
   "attachments": {},
   "cell_type": "markdown",
   "metadata": {},
   "source": [
    "This notebook is used to later attach the location of the tissue to the tiles in the hdf5 dataset, leaving the rest of the dataset untouched."
   ]
  },
  {
   "cell_type": "code",
   "execution_count": 1,
   "metadata": {},
   "outputs": [],
   "source": [
    "import h5py\n",
    "import pandas as pd\n",
    "import numpy as np"
   ]
  },
  {
   "cell_type": "code",
   "execution_count": 2,
   "metadata": {},
   "outputs": [],
   "source": [
    "csv = \"/home/sdejong/pmchhg/labels.csv\"\n",
    "hdf5 = \"/home/sdejong/pmchhg/features/imagenet-11-4-2023-fold-0.hdf5\""
   ]
  },
  {
   "cell_type": "code",
   "execution_count": 3,
   "metadata": {},
   "outputs": [],
   "source": [
    "df = pd.read_csv(csv)\n"
   ]
  },
  {
   "cell_type": "code",
   "execution_count": 4,
   "metadata": {},
   "outputs": [],
   "source": [
    "with h5py.File(hdf5, \"a\") as f:\n",
    "    utf8_type = h5py.string_dtype('utf-8')\n",
    "\n",
    "    for row in df.iterrows():\n",
    "        try:\n",
    "            case_group = f[row[1][\"case_id\"]]\n",
    "            location = row[1][\"location\"]\n",
    "            for image_group in case_group.keys():\n",
    "                all_location = np.repeat(location, len(case_group[image_group][\"data\"])).astype(utf8_type)\n",
    "                case_group[image_group][\"all_location\"] = all_location\n",
    "        except KeyError:\n",
    "            continue"
   ]
  },
  {
   "cell_type": "code",
   "execution_count": null,
   "metadata": {},
   "outputs": [],
   "source": []
  }
 ],
 "metadata": {
  "kernelspec": {
   "display_name": "pmchhg",
   "language": "python",
   "name": "python3"
  },
  "language_info": {
   "codemirror_mode": {
    "name": "ipython",
    "version": 3
   },
   "file_extension": ".py",
   "mimetype": "text/x-python",
   "name": "python",
   "nbconvert_exporter": "python",
   "pygments_lexer": "ipython3",
   "version": "3.10.9"
  },
  "orig_nbformat": 4
 },
 "nbformat": 4,
 "nbformat_minor": 2
}
