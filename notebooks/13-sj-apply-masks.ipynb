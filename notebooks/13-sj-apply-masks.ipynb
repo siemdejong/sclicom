{
 "cells": [
  {
   "cell_type": "code",
   "execution_count": 1,
   "metadata": {},
   "outputs": [],
   "source": [
    "from glob import glob\n",
    "from pathlib import Path\n",
    "import cv2\n",
    "from tqdm import tqdm"
   ]
  },
  {
   "cell_type": "code",
   "execution_count": 2,
   "metadata": {},
   "outputs": [],
   "source": [
    "directory = Path(\"/home/sdejong/pmchhg/images-tif\")\n",
    "mask_directory = Path(\"/home/sdejong/pmchhg/masks\")\n",
    "output_directory = Path(\"/home/sdejong/pmchhg/masked_images\")\n",
    "output_directory.mkdir(parents=True, exist_ok=True)"
   ]
  },
  {
   "cell_type": "code",
   "execution_count": 27,
   "metadata": {},
   "outputs": [
    {
     "name": "stderr",
     "output_type": "stream",
     "text": [
      "100%|██████████| 220/220 [16:48<00:00,  4.58s/it]\n"
     ]
    }
   ],
   "source": [
    "images = glob(str(directory / \"*.tif\"))\n",
    "masks = glob(str(mask_directory / \"*.png\"))\n",
    "for image_fn in tqdm(images):\n",
    "    for mask_fn in masks:\n",
    "        if Path(image_fn).stem not in Path(mask_fn).stem:\n",
    "            continue\n",
    "\n",
    "        image = cv2.imread(image_fn)\n",
    "        mask = cv2.imread(mask_fn, cv2.IMREAD_GRAYSCALE)\n",
    "        resized_mask = cv2.resize(mask, image.shape[:2][::-1], interpolation=cv2.INTER_LANCZOS4)\n",
    "        masked_image = cv2.bitwise_and(image, image, mask=resized_mask)\n",
    "        output_fn = str(output_directory / (Path(image_fn).stem + \".png\"))\n",
    "        cv2.imwrite(output_fn, masked_image)\n"
   ]
  },
  {
   "cell_type": "code",
   "execution_count": null,
   "metadata": {},
   "outputs": [],
   "source": []
  }
 ],
 "metadata": {
  "kernelspec": {
   "display_name": "pmchhg",
   "language": "python",
   "name": "python3"
  },
  "language_info": {
   "codemirror_mode": {
    "name": "ipython",
    "version": 3
   },
   "file_extension": ".py",
   "mimetype": "text/x-python",
   "name": "python",
   "nbconvert_exporter": "python",
   "pygments_lexer": "ipython3",
   "version": "3.10.9"
  },
  "orig_nbformat": 4
 },
 "nbformat": 4,
 "nbformat_minor": 2
}
