{
 "cells": [
  {
   "cell_type": "code",
   "execution_count": 1,
   "metadata": {},
   "outputs": [],
   "source": [
    "import pandas as pd"
   ]
  },
  {
   "cell_type": "code",
   "execution_count": 2,
   "metadata": {},
   "outputs": [],
   "source": [
    "data = pd.read_csv(\"/home/sdejong/pmchhg/labels.csv\")"
   ]
  },
  {
   "cell_type": "code",
   "execution_count": 20,
   "metadata": {},
   "outputs": [
    {
     "name": "stdout",
     "output_type": "stream",
     "text": [
      "\\begin{tabular}{lr}\n",
      "\\toprule\n",
      "{} &  diagnosis \\\\\n",
      "diagnosis                           &            \\\\\n",
      "\\midrule\n",
      "DNT                                 &          1 \\\\\n",
      "PitNET                              &          1 \\\\\n",
      "atypical choroid plexus papilloma   &          1 \\\\\n",
      "craniopharyngioma                   &          5 \\\\\n",
      "diffuse midline glioma              &          1 \\\\\n",
      "embryonale tumor nec                &          1 \\\\\n",
      "ependymoma                          &          1 \\\\\n",
      "ganglioglioma                       &          3 \\\\\n",
      "glioma                              &          1 \\\\\n",
      "infantile hemispheric glioma        &          1 \\\\\n",
      "medulloblastoma                     &          8 \\\\\n",
      "medullomyoblastoma                  &          1 \\\\\n",
      "no neoplasm                         &          1 \\\\\n",
      "pilocytic astrocytoma               &         17 \\\\\n",
      "reactive                            &          1 \\\\\n",
      "subependymal giant cell astrocytoma &          1 \\\\\n",
      "\\bottomrule\n",
      "\\end{tabular}\n",
      "\n"
     ]
    },
    {
     "name": "stderr",
     "output_type": "stream",
     "text": [
      "/scratch-local/sdejong/ipykernel_933255/1930934043.py:1: FutureWarning: In future versions `DataFrame.to_latex` is expected to utilise the base implementation of `Styler.to_latex` for formatting and rendering. The arguments signature may therefore change. It is recommended instead to use `DataFrame.style.to_latex` which also contains additional functionality.\n",
      "  print(data.groupby(\"diagnosis\")[\"diagnosis\"].count().to_latex())\n"
     ]
    }
   ],
   "source": [
    "print(data.groupby(\"diagnosis\")[\"diagnosis\"].count().to_latex())"
   ]
  },
  {
   "cell_type": "code",
   "execution_count": null,
   "metadata": {},
   "outputs": [],
   "source": []
  }
 ],
 "metadata": {
  "kernelspec": {
   "display_name": "pmchhg",
   "language": "python",
   "name": "python3"
  },
  "language_info": {
   "codemirror_mode": {
    "name": "ipython",
    "version": 3
   },
   "file_extension": ".py",
   "mimetype": "text/x-python",
   "name": "python",
   "nbconvert_exporter": "python",
   "pygments_lexer": "ipython3",
   "version": "3.10.9"
  },
  "orig_nbformat": 4
 },
 "nbformat": 4,
 "nbformat_minor": 2
}
